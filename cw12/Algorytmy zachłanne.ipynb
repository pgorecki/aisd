{
 "cells": [
  {
   "cell_type": "markdown",
   "metadata": {},
   "source": [
    "# Problemy optymalizacyjne\n",
    "\n",
    "Wiele problemów ma naturę optymalizacyjną. Zadaniem algorytmyu optymalizacyjnego jest wybór najlepszego rozwiązania spośród wielu dostępnych rozwiązań (których najczęśćiej jest bardzo dużo). Przykładem takiego problemu może być [problem plecakowy](https://pl.wikipedia.org/wiki/Problem_plecakowy). Na wejściu otrzymujemy zbiór przedmiotów - każdy z nich ma wagę i wartość. Naszym zadaniem jest tak wybór podzbioru przedmiotów aby sumaryczna wartość przedmiotów była jak największa, a sumaryczna waga nie przekraczała udźwigu plecaka. Innym problemem optymalizacyjnym jest wybór nakrótszej drogi pomiędzy miastami A i B. Jak łatwo sobie wyobrazić, możliwych dróg będzie bardzo dużo ale najkrótsza będzie tylko jedna.\n",
    "\n",
    "## Algorytmy zachłanne\n",
    "\n",
    "Algorytm zachłanny rozwiązuje problem w sposób iteracyjny - w każdym kroku dokonuje wyboru zachłannego, tj. wybiera najlepiej rokujące w danym momencie rozwiązanie częściowe, a w kolejnych krokach kontunuuje rozwiązanie na bazie podjętych wcześniej wyborów. \n",
    "\n",
    "\n",
    "## Problem plecakowy\n",
    "\n",
    "Rozważmy jeszcze raz problem plecakowy. W tym przypadku algorytm najpierw ocenia wartość jednostkową (wartość/waga) każdego przedmiotu, a następnie umieszcza w plecaku przedmioty od tych najbardziej do najmniej wartościowych. W każdej iteracji zapada zachłanna decyzja czy dany przedmiot powienien trafić do plecaka.\n",
    "\n",
    "<img src=\"https://upload.wikimedia.org/wikipedia/commons/thumb/c/c6/Knapsack_greedy.svg/382px-Knapsack_greedy.svg.png\" />"
   ]
  },
  {
   "cell_type": "markdown",
   "metadata": {},
   "source": [
    "Jak widać w powyższym przykładzie do plecaka zapakowano przedmioty 1 i 3. Jaka jest symaryczna wartość przedmiotów w plecaku? Czy jest to wybór optymalny?\n",
    "\n",
    "## Problem wydawania reszty\n",
    "\n",
    "Zadaniem algorytmu jest wydanie pewnej kwoty pienieżnej przy jak najmniejszej liczbie monet. Załóżmy, że mamy do dyspozycji monety o wartościach 5zł, 2zł, 1zł. Dysponując dowolną liczbą takich monet chcemy wydać resztę o wartośc 18. Jednym z potencjalnych rozwiązań jest wydanie 18 x 1zł ale nie jest to rozwiązanie optymalne bo wymaga wydania 18 monet. Innym rozwiązaniem jest wydanie 3 monet 5zł, 1 monety 2zł i 1 monety 1zł - ten wybór jest optymalny.\n",
    "\n",
    "Algorytm zachłanny będzie działać w tym przypadku w następujący sposób:\n",
    "1. wybierz monetę *m* o największej wartości, nie większej od pozostałej do wydania kwoty *k*\n",
    "2. dodaj *m* do rozwiązania, zmniejsz *k* o wartość *m*\n",
    "3. zakończ algorytm jeżeli *k=0*\n",
    "\n",
    "Poniżej znajduje się przykład wydawania monet w sposób zachłanny ale nieoptymalny - w każdej iteracji wybierana jest pierwsza dostępna moneta."
   ]
  },
  {
   "cell_type": "code",
   "execution_count": 1,
   "metadata": {
    "collapsed": false
   },
   "outputs": [
    {
     "name": "stdout",
     "output_type": "stream",
     "text": [
      "[1, 1, 1, 1, 1, 1, 1, 1, 1, 1, 1, 1, 1, 1, 1, 1, 1, 1]\n"
     ]
    }
   ],
   "source": [
    "def wydaj_zachlannie(kwota, monety):\n",
    "    reszta = []\n",
    "    while kwota > 0:\n",
    "        m = monety[0]\n",
    "        kwota -= m\n",
    "        reszta.append(m)\n",
    "    return reszta\n",
    "\n",
    "print(wydaj_zachlannie(18, [1,2,5]))"
   ]
  },
  {
   "cell_type": "markdown",
   "metadata": {},
   "source": [
    "Zmodyfikuj powyższy algorytm tak, aby wydawał resztę zachłąnnie w sposób optymalny (wg. podanego wcześniej algorytmu)."
   ]
  },
  {
   "cell_type": "markdown",
   "metadata": {},
   "source": [
    "## Problem plecakowy - rozwiązanie bruteforce\n",
    "\n",
    "Spróbujmy rozwiązać problem plecakowy w sposób siłowy - wypróbujemy wszystkie kombinacje przedmiotów i wybierzemy taką kombinację, która będzie maksymalizować wartość wybranych przedmiotów. Każda kombinacja przedmiotów zostanie zapisana jako wektor zero-jedynkowy (jedynka oznacza że pakujemy przedmioty do plecaka) i dla każdej kombinacji policzymy sumaryczną wartość i wagę, po to żeby znaleźć tą najlepszą i upewnić się że dana kombinacja zmieści się do plecaka. Argument `przedmioty` jest listą krotek (wartość, waga)."
   ]
  },
  {
   "cell_type": "code",
   "execution_count": 30,
   "metadata": {
    "collapsed": false
   },
   "outputs": [
    {
     "name": "stdout",
     "output_type": "stream",
     "text": [
      "Wybieram [0, 0, 0]\n",
      "Łączna wartość: 0, łączna waga: 0\n",
      "Wybieram [0, 0, 1]\n",
      "Łączna wartość: 1, łączna waga: 2\n",
      "Znalazłem lepsze rozwiązanie: [0, 0, 1] o wartości 1 i wadze 2\n",
      "Wybieram [0, 1, 0]\n",
      "Łączna wartość: 1, łączna waga: 3\n",
      "Wybieram [0, 1, 1]\n",
      "Łączna wartość: 2, łączna waga: 5\n",
      "Znalazłem lepsze rozwiązanie: [0, 1, 1] o wartości 2 i wadze 5\n",
      "Wybieram [1, 0, 0]\n",
      "Łączna wartość: 10, łączna waga: 4\n",
      "Znalazłem lepsze rozwiązanie: [1, 0, 0] o wartości 10 i wadze 4\n",
      "Wybieram [1, 0, 1]\n",
      "Łączna wartość: 11, łączna waga: 6\n",
      "Za ciężkie!\n",
      "Wybieram [1, 1, 0]\n",
      "Łączna wartość: 11, łączna waga: 7\n",
      "Za ciężkie!\n",
      "Wybieram [1, 1, 1]\n",
      "Łączna wartość: 12, łączna waga: 9\n",
      "Za ciężkie!\n",
      "Najlepsze rozwiązanie: [1, 0, 0]\n"
     ]
    }
   ],
   "source": [
    "def plecakowy_bruteforce(przedmioty, limit):\n",
    "    rozwiazanie = []\n",
    "    najlepsza_wartosc = 0\n",
    "\n",
    "    wybory = [[0], [1]]\n",
    "    for i in range(len(przedmioty)-1):\n",
    "        w0 = [[0]+w for w in wybory]\n",
    "        w1 = [[1]+w for w in wybory]\n",
    "        wybory = w0 + w1\n",
    "\n",
    "    for wybor in wybory:\n",
    "        print('Wybieram', wybor)\n",
    "        \n",
    "        suma_wartosc = 0\n",
    "        suma_waga = 0\n",
    "        for i in range(len(wybor)):\n",
    "            if wybor[i] == 1:\n",
    "                (wartosc, waga) = przedmioty[i]\n",
    "                suma_wartosc += wartosc\n",
    "                suma_waga += waga\n",
    "        \n",
    "        print(\"Łączna wartość: %d, łączna waga: %s\" % (suma_wartosc, suma_waga))\n",
    "        \n",
    "        if suma_waga > limit:\n",
    "            print(\"Za ciężkie!\")\n",
    "            continue\n",
    "        \n",
    "        if suma_wartosc > najlepsza_wartosc:\n",
    "            najlepsza_wartosc = suma_wartosc\n",
    "            rozwiazanie = wybor\n",
    "            print(\"Znalazłem lepsze rozwiązanie: %s o wartości %d i wadze %d\" % (wybor, suma_wartosc, suma_waga))\n",
    "                \n",
    "        \n",
    "    return rozwiazanie\n",
    "\n",
    "\n",
    "print(\"Najlepsze rozwiązanie:\", plecakowy_bruteforce([(10, 4), (1, 3), (1, 2)], 5))"
   ]
  },
  {
   "cell_type": "markdown",
   "metadata": {},
   "source": [
    "Sprawdź jaki będzie czas wykonania algorytmu dla listy 5, 10, 15, 20 przedmiotów.\n",
    "\n",
    "Zaimplementuj algorytm zachłanny dla problemu plecakowego. Użyj następujących strategii zachłannych:\n",
    "\n",
    "* Wybieraj przedmioty o największej wartości\n",
    "* Wybieraj przedmioty o największej wadze\n",
    "* Wybieraj przedmioty o największej wartości jednostkowej"
   ]
  },
  {
   "cell_type": "code",
   "execution_count": null,
   "metadata": {
    "collapsed": true
   },
   "outputs": [],
   "source": []
  }
 ],
 "metadata": {
  "kernelspec": {
   "display_name": "Python 3",
   "language": "python",
   "name": "python3"
  },
  "language_info": {
   "codemirror_mode": {
    "name": "ipython",
    "version": 3
   },
   "file_extension": ".py",
   "mimetype": "text/x-python",
   "name": "python",
   "nbconvert_exporter": "python",
   "pygments_lexer": "ipython3",
   "version": "3.5.2"
  }
 },
 "nbformat": 4,
 "nbformat_minor": 1
}
