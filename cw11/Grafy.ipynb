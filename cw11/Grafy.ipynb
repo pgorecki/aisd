{
 "cells": [
  {
   "cell_type": "markdown",
   "metadata": {},
   "source": [
    "# Reprezentacja grafów\n",
    "\n",
    "Poniżej znajduje się omówienie 4 głównych sposobów reprezentacji grafów, tj. przechowywania informacji o wierzchołkach i krawędziach grafu.\n",
    "\n",
    "<img src=\"http://www.algolist.net/img/graphs/DFS/DFS-example-1.png\" />\n",
    "\n",
    "Dla każdej reprezentacji zastanów się:\n",
    "- w jaki sposób znaleźć krawędź (u,v)? \n",
    "- w jaki sposób znaleźć wszystkie krawędzie wychodzące z wierzchołka *u*?\n",
    "- jak uzyskać listę wszystkich krawędzi?\n",
    "\n",
    "## Lista krawędzi\n",
    "\n",
    "W tym podejściu przechowujemy krawędzie jako listę krotek (u,v):\n",
    "```\n",
    "krawedzie = [(1,4), (2,4), (4,5), (2,5), (3,5)]\n",
    "```\n",
    "\n",
    "## Lista sąsiedztwa\n",
    "\n",
    "W tym podejściu dla każdego wierzchołka przetrzymujemy listę połączonych z nim wierzchołków:\n",
    "```\n",
    "lista_sasiedztwa = [[], [4], [4,5], [5], [1,2,5], [2,3,4]]\n",
    "```\n",
    "\n",
    "## Mapa sąsiedztwa\n",
    "\n",
    "To podejście jest podobne do listy sąsiedztwa z tym, że dla każdego wierzchołka przetrzymywana jest mapa (zamiast listy. To pozwala na dostęp do krawiędzi (u,v) w czasie *O(1)*.\n",
    "```\n",
    "mapa_sasiedztwa = {\n",
    "1: { 4: True },\n",
    "2: { 4: True, 5: True },\n",
    "3: { 5: True},\n",
    "4: { 1: True, 2: True, 5: True },\n",
    "5: { 2: True, 3: True, 4: True }\n",
    "}\n",
    "```\n",
    "\n",
    "## Macierz sąsiedztwa\n",
    "\n",
    "W tym podejściu tworzymy tablicę kwadratową o rozmiarze $n*n$. Dla przecięciu wiersza *u* i kolumny *v* przechowywana jest informacja o krawędzi pomiędzy *u* i *v* (lub None gdy nie ma krawędzi pomędzy tymi wierzchołkami).\n",
    "```\n",
    "macierz_sasiedztwa = [\n",
    "   [0,0,0,0,0,0],\n",
    "   [0,1,0,0,1,0],\n",
    "   [0,0,1,0,1,1],\n",
    "   [0,0,0,1,0,1],\n",
    "   [0,1,1,0,1,1],\n",
    "   [0,0,1,1,1,1],\n",
    "]\n",
    "```"
   ]
  },
  {
   "cell_type": "markdown",
   "metadata": {},
   "source": [
    "Dokończ implementację grafu:"
   ]
  },
  {
   "cell_type": "code",
   "execution_count": 3,
   "metadata": {
    "collapsed": false
   },
   "outputs": [],
   "source": [
    "class Graf:\n",
    "    def __init__(self, directed=False):\n",
    "        self.directed = directed\n",
    "        \n",
    "    def is_directed(self):\n",
    "        # zwraca informację czy graf jest skierowany\n",
    "        pass\n",
    "    \n",
    "    def add_vertex(self, v):\n",
    "        # dodaje wierzchołek do grafu\n",
    "        pass\n",
    "    \n",
    "    def vertex_count(self):\n",
    "        # zwraca liczbę wierzchołków w grafie\n",
    "        pass\n",
    "\n",
    "    def vertices(self):\n",
    "        # zwraca wierzchołki grafu \n",
    "        pass\n",
    "    \n",
    "    def add_edge(self, u,v, value=None):\n",
    "        # dodaje nową krawędź do grafu i przypisuje jej wartość value\n",
    "        pass\n",
    "\n",
    "    def get_edge(self, u, v):\n",
    "        # zwraca krawędź pomiędzy u i v jako krotkę (u,v,value)\n",
    "        pass\n",
    "    \n",
    "    def edge_count(self):\n",
    "        # zwraca liczbe krawędzi w grafie\n",
    "        pass\n",
    "\n",
    "    def edges(self):\n",
    "        # zwraca krawędzie grafu jako listę krotek (u,v,value)\n",
    "        pass\n",
    "            \n",
    "    def incident_edges(self, v, outgoing=True):\n",
    "        # zwraca listę krawędzi wychodzących z v (przychodzących do v)\n",
    "        pass\n",
    "    \n",
    "    def degree(self, v, outgoing=True):\n",
    "        # zwraca stopień wierzchołka grafu\n",
    "        pass"
   ]
  },
  {
   "cell_type": "markdown",
   "metadata": {},
   "source": [
    "# Gra tekstowa\n",
    "\n",
    "Stwórz grę tekstową, w której gracz poruszać się będzie w labiryncie. Labirynt zbudowany jest z pomieszczeń połączonych korytarzami. Każde pomieszczenie powinno posiadać opis tekstowy, który wyświetli się na ekranie, gdy gracz wejdzie do tego pomieszczenia. Po wejściu do pomieszczenia gracz powinien również zobaczyć listę możliwych wyjść (korytarzy). Gracz powinien moć wpisać komendę, która umożliwi mu przejście wybranym korytarzem. Gra kończy się gdy gracz odnajdzie wyjście z labiryntu (specjalny rodzaj pomieszczenia).\n",
    "\n",
    "Przykładowy przebieg rozgrywki:\n",
    "\n",
    "```\n",
    "Budzisz się w zimnej i ciemnej celi, boli cię głowa. Ostatnia rzecz, którą pamiętasz to wesele kolegi. Nie wiesz co tutaj robisz ale pora ruszać do domu.\n",
    "Z tego pomieszczenia wychodzi 1 wyjście:\n",
    "1. krótki korytarz\n",
    "Co robisz?\n",
    "> 1\n",
    "\n",
    "Znajdujesz się na rozstajach w kształcie litery Y.\n",
    "Z tego pomieszczenia wychodzą 3 wyjścia:\n",
    "1. krótki korytarz\n",
    "2. schody do góry\n",
    "3. korytarz, z którego słychać szum\n",
    "Co robisz?\n",
    "> 2\n",
    "\n",
    "...\n",
    "```\n",
    "\n",
    "Do implementacji powyższej gry użyj grafu."
   ]
  },
  {
   "cell_type": "markdown",
   "metadata": {},
   "source": [
    "# Gra paragrafowa\n",
    "\n",
    "Stwórz elektroniczną wersję gry paragafowej *Ogniem i szablą* (wszelkie prawa autorskie należą do Michała Grynia). \n",
    "\n",
    "**Wskazówki implementacyjne**\n",
    "\n",
    "Z każdym pomieszczeniem (paragrafem), oprócz opisu, powinna być powiązana lista zdarzeń. Zdarzeniem może być:\n",
    "- modyfikacja cechy\n",
    "- test cechy (cecha, poziom trudnosci, zdarzenie sukces, zdarzenie porazka)\n",
    "- walka\n",
    "- możliwość wzięcia przedmiotu\n",
    "\n",
    "Po wykonaniu wszystkich zdarzeń gracz powinien mieć możliwość wybrania akcji (przejście do kolejnego paragrafu)."
   ]
  },
  {
   "cell_type": "code",
   "execution_count": 6,
   "metadata": {
    "collapsed": false
   },
   "outputs": [
    {
     "name": "stdout",
     "output_type": "stream",
     "text": [
      "4\n",
      "1\n",
      "3\n",
      "1\n",
      "1\n",
      "3\n",
      "3\n",
      "5\n",
      "4\n",
      "2\n"
     ]
    }
   ],
   "source": [
    "import random\n",
    "\n",
    "# w taki sposób wykonasz rzut kością 6cio ścienną\n",
    "for i in range(10):\n",
    "    print(random.randint(1, 6))"
   ]
  }
 ],
 "metadata": {
  "kernelspec": {
   "display_name": "Python 3",
   "language": "python",
   "name": "python3"
  },
  "language_info": {
   "codemirror_mode": {
    "name": "ipython",
    "version": 3
   },
   "file_extension": ".py",
   "mimetype": "text/x-python",
   "name": "python",
   "nbconvert_exporter": "python",
   "pygments_lexer": "ipython3",
   "version": "3.5.2"
  }
 },
 "nbformat": 4,
 "nbformat_minor": 1
}
